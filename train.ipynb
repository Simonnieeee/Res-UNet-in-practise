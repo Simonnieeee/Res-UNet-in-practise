{
 "cells": [
  {
   "cell_type": "code",
   "execution_count": 1,
   "metadata": {},
   "outputs": [],
   "source": [
    "import pickle\n",
    "import matplotlib.pyplot as plt\n",
    "import numpy as np\n",
    "import torch\n",
    "from torch.utils.data import DataLoader, TensorDataset\n",
    "import torch.nn.functional as F\n",
    "from tqdm import tqdm\n",
    "from ResUnet import *\n",
    "import os\n",
    "\n",
    "f_val = \"data/spectralis/hcval/data.pkl\"\n",
    "f_train = \"data/spectralis/hctrain/data.pkl\"\n",
    "f_test = \"data/spectralis/hceval/data.pkl\"\n",
    "\n",
    "with open(f_val, 'rb') as f:\n",
    "    data_val = pickle.load(f)\n",
    "\n",
    "labels_val = data_val['labels']\n",
    "images_val = data_val['images']\n",
    "filenames_val = data_val['file_names']\n",
    "\n",
    "\n",
    "with open(f_train, 'rb') as f:\n",
    "    data_train = pickle.load(f)\n",
    "\n",
    "labels_train = data_train['labels']\n",
    "images_train = data_train['images']\n",
    "filenames_train = data_train['file_names']\n",
    "\n",
    "with open(f_test, 'rb') as f:\n",
    "    data_test = pickle.load(f)\n",
    "\n",
    "labels_test = data_test['labels']\n",
    "images_test = data_test['images']\n",
    "filenames_test = data_test['file_names']\n"
   ]
  },
  {
   "cell_type": "code",
   "execution_count": 2,
   "metadata": {},
   "outputs": [
    {
     "data": {
      "image/png": "[encoded data removed]",
      "text/plain": [
       "<Figure size 640x480 with 1 Axes>"
      ]
     },
     "metadata": {},
     "output_type": "display_data"
    }
   ],
   "source": [
    "plt.figure()\n",
    "plt.imshow(labels_train[0], cmap='gray')\n",
    "plt.show()"
   ]
  },
  {
   "cell_type": "code",
   "execution_count": 3,
   "metadata": {},
   "outputs": [],
   "source": [
    "## 调整数据size\n",
    "images_train = images_train[:, np.newaxis, :, :]\n",
    "images_val = images_val[:, np.newaxis, :, :]\n",
    "images_test = images_test[:, np.newaxis, :, :]\n",
    "# labels_train = labels_train[:, np.newaxis, :, :]\n",
    "# labels_val = labels_val[:, np.newaxis, :, :]\n",
    "# labels_test = labels_test[:, np.newaxis, :, :]\n",
    "\n",
    "## 转化为torch tensor\n",
    "labels_train = torch.tensor(labels_train, dtype=torch.float32)\n",
    "labels_val = torch.tensor(labels_val, dtype=torch.float32)\n",
    "images_train = torch.tensor(images_train, dtype=torch.float32)\n",
    "images_val = torch.tensor(images_val, dtype=torch.float32)\n",
    "labels_test = torch.tensor(labels_test, dtype=torch.float32)\n",
    "images_test = torch.tensor(images_test, dtype=torch.float32)\n"
   ]
  },
  {
   "cell_type": "code",
   "execution_count": 4,
   "metadata": {},
   "outputs": [
    {
     "data": {
      "image/png": "[encoded data removed]",
      "text/plain": [
       "<Figure size 640x480 with 1 Axes>"
      ]
     },
     "metadata": {},
     "output_type": "display_data"
    }
   ],
   "source": [
    "plt.figure()\n",
    "plt.imshow(labels_train[0], cmap='gray')\n",
    "plt.show()"
   ]
  },
  {
   "cell_type": "code",
   "execution_count": 5,
   "metadata": {},
   "outputs": [
    {
     "name": "stdout",
     "output_type": "stream",
     "text": [
      "torch.Size([588, 128, 1024])\n"
     ]
    }
   ],
   "source": [
    "# 设置超参数\n",
    "BATCH_SIZE = 2\n",
    "EPOCHS = 40\n",
    "LEARNING_RATE = 1e-2\n",
    "NUM_CLASSES = 10\n",
    "EVAL_FREQ = 4\n",
    "DEVICE = torch.device('cuda' if torch.cuda.is_available() else 'cpu')\n",
    "# DEVICE = torch.device(\"cuda:5\")\n",
    "\n",
    "## label转化为one-hot\n",
    "print(labels_train.shape)\n",
    "\n",
    "def to_one_hot(labels):\n",
    "    one_hot = F.one_hot(labels.to(torch.int64), NUM_CLASSES).permute(0, 3, 1, 2)\n",
    "    return one_hot.float()\n",
    "\n"
   ]
  },
  {
   "cell_type": "code",
   "execution_count": 6,
   "metadata": {},
   "outputs": [
    {
     "name": "stdout",
     "output_type": "stream",
     "text": [
      "torch.Size([588, 128, 1024])\n",
      "torch.Size([588, 10, 128, 1024])\n",
      "tensor([0., 0., 0., 0., 0., 0., 0., 0., 0., 1.])\n",
      "294 74\n"
     ]
    }
   ],
   "source": [
    "print(labels_train.shape)\n",
    "labels_train = to_one_hot(labels_train)\n",
    "labels_val = to_one_hot(labels_val)\n",
    "labels_test = to_one_hot(labels_test)\n",
    "\n",
    "print(labels_train.shape)\n",
    "print(labels_train[345,:,123,0])\n",
    "\n",
    "## 创建dataset和加载器\n",
    "train_dataset = TensorDataset(images_train, labels_train)\n",
    "val_dataset = TensorDataset(images_val, labels_val)\n",
    "test_dataset = TensorDataset(images_test, labels_test)\n",
    "\n",
    "train_loader = DataLoader(train_dataset, batch_size=BATCH_SIZE, shuffle=True, pin_memory=True, num_workers=8)\n",
    "val_loader = DataLoader(val_dataset, batch_size=BATCH_SIZE, shuffle=False, pin_memory=True, num_workers=8)\n",
    "test_loader = DataLoader(test_dataset, batch_size=BATCH_SIZE, shuffle=False, pin_memory=True, num_workers=8)\n",
    "print(len(train_loader), len(val_loader))"
   ]
  },
  {
   "cell_type": "code",
   "execution_count": 7,
   "metadata": {},
   "outputs": [
    {
     "name": "stdout",
     "output_type": "stream",
     "text": [
      "torch.Size([588, 1, 128, 1024])\n"
     ]
    }
   ],
   "source": [
    "print(images_train.shape)"
   ]
  },
  {
   "cell_type": "code",
   "execution_count": 8,
   "metadata": {},
   "outputs": [
    {
     "name": "stdout",
     "output_type": "stream",
     "text": [
      "torch.Size([10, 128, 1024])\n",
      "torch.Size([128, 1024])\n"
     ]
    },
    {
     "data": {
      "image/png": "[encoded data removed]",
      "text/plain": [
       "<Figure size 640x480 with 1 Axes>"
      ]
     },
     "metadata": {},
     "output_type": "display_data"
    }
   ],
   "source": [
    "## 检查一下是否转化成功\n",
    "\n",
    "\n",
    "tmp = labels_train[0]\n",
    "print(tmp.shape)\n",
    "tmp = tmp.max(0)[1]\n",
    "print(tmp.shape)\n",
    "tmp = tmp.float().numpy()\n",
    "\n",
    "# 使用 matplotlib 显示图像\n",
    "plt.figure()\n",
    "plt.imshow(tmp, cmap='gray')\n",
    "plt.show()"
   ]
  },
  {
   "cell_type": "code",
   "execution_count": 9,
   "metadata": {},
   "outputs": [],
   "source": [
    "## 定义训练和验证函数\n",
    "\n",
    "def train_one_epoch(model, optimizer, criterion, data_loader, device):\n",
    "    model.train()\n",
    "    train_loss = 0.0\n",
    "    for images, labels in data_loader:\n",
    "        images, labels = images.to(device), labels.to(device)\n",
    "\n",
    "        optimizer.zero_grad()\n",
    "        outputs = model(images)\n",
    "        \n",
    "        loss = criterion(outputs, labels)\n",
    "        loss.backward()\n",
    "        optimizer.step()\n",
    "\n",
    "        train_loss += loss.item()\n",
    "    return train_loss / len(data_loader)\n",
    "\n",
    "def validate(model, criterion, data_loader, device):\n",
    "    model.eval()\n",
    "    val_loss = 0.0\n",
    "    with torch.no_grad():\n",
    "        for images, labels in data_loader:\n",
    "            images, labels = images.to(device), labels.to(device)\n",
    "\n",
    "            outputs = model(images)\n",
    "            loss = criterion(outputs, labels)\n",
    "\n",
    "            val_loss += loss.item()\n",
    "    return val_loss / len(data_loader)\n"
   ]
  },
  {
   "cell_type": "code",
   "execution_count": 10,
   "metadata": {},
   "outputs": [
    {
     "name": "stdout",
     "output_type": "stream",
     "text": [
      "Epoch: 01, Train Loss: 1.6366, Val Loss: inf\n",
      "Epoch: 02, Train Loss: 1.5341, Val Loss: inf\n",
      "Epoch: 03, Train Loss: 1.5222, Val Loss: inf\n",
      "Epoch: 04, Train Loss: 1.5183, Val Loss: 1.5102\n",
      "Epoch: 05, Train Loss: 1.5156, Val Loss: 1.5102\n",
      "Epoch: 06, Train Loss: 1.5154, Val Loss: 1.5102\n",
      "Epoch: 07, Train Loss: 1.5133, Val Loss: 1.5102\n",
      "Epoch: 08, Train Loss: 1.5131, Val Loss: 1.5074\n",
      "Epoch: 09, Train Loss: 1.5126, Val Loss: 1.5074\n",
      "Epoch: 10, Train Loss: 1.5117, Val Loss: 1.5074\n",
      "Epoch: 11, Train Loss: 1.5109, Val Loss: 1.5074\n",
      "Epoch: 12, Train Loss: 1.5103, Val Loss: 1.5061\n",
      "Epoch: 13, Train Loss: 1.5105, Val Loss: 1.5061\n",
      "Epoch: 14, Train Loss: 1.5102, Val Loss: 1.5061\n",
      "Epoch: 15, Train Loss: 1.5095, Val Loss: 1.5061\n",
      "Epoch: 16, Train Loss: 1.5091, Val Loss: 1.5061\n",
      "Epoch: 17, Train Loss: 1.5094, Val Loss: 1.5061\n",
      "Epoch: 18, Train Loss: 1.5088, Val Loss: 1.5061\n",
      "Epoch: 19, Train Loss: 1.5110, Val Loss: 1.5061\n",
      "Epoch: 20, Train Loss: 1.5088, Val Loss: 1.5050\n",
      "Epoch: 21, Train Loss: 1.5085, Val Loss: 1.5050\n",
      "Epoch: 22, Train Loss: 1.5079, Val Loss: 1.5050\n",
      "Epoch: 23, Train Loss: 1.5075, Val Loss: 1.5050\n",
      "Epoch: 24, Train Loss: 1.5070, Val Loss: 1.5050\n",
      "Epoch: 25, Train Loss: 1.5065, Val Loss: 1.5050\n",
      "Epoch: 26, Train Loss: 1.5060, Val Loss: 1.5050\n",
      "Epoch: 27, Train Loss: 1.5046, Val Loss: 1.5050\n",
      "Epoch: 28, Train Loss: 1.5043, Val Loss: 1.5049\n",
      "Epoch: 29, Train Loss: 1.5036, Val Loss: 1.5049\n",
      "Epoch: 30, Train Loss: 1.5036, Val Loss: 1.5049\n",
      "Epoch: 31, Train Loss: 1.5032, Val Loss: 1.5049\n",
      "Epoch: 32, Train Loss: 1.5028, Val Loss: 1.5024\n",
      "Epoch: 33, Train Loss: 1.5025, Val Loss: 1.5024\n",
      "Epoch: 34, Train Loss: 1.5023, Val Loss: 1.5024\n",
      "Epoch: 35, Train Loss: 1.5018, Val Loss: 1.5024\n",
      "Epoch: 36, Train Loss: 1.5016, Val Loss: 1.5024\n",
      "Epoch: 37, Train Loss: 1.5013, Val Loss: 1.5024\n",
      "Epoch: 38, Train Loss: 1.5009, Val Loss: 1.5024\n",
      "Epoch: 39, Train Loss: 1.5004, Val Loss: 1.5024\n",
      "Epoch: 40, Train Loss: 1.5002, Val Loss: 1.5024\n",
      "Best model at epoch:  32\n"
     ]
    }
   ],
   "source": [
    "import logging\n",
    "\n",
    "logger = logging.getLogger(__name__)\n",
    "\n",
    "output_dir = \"output\"\n",
    "checkpoint_dir = os.path.join(output_dir, 'checkpoints')\n",
    "os.makedirs(checkpoint_dir, exist_ok=True)\n",
    "\n",
    "\n",
    "model = ResUnet(1, 10).to(DEVICE)\n",
    "criterion = torch.nn.CrossEntropyLoss()\n",
    "optimizer = torch.optim.Adam(model.parameters(), lr=LEARNING_RATE)\n",
    "\n",
    "best_val_loss = float('inf')\n",
    "losses_train = []\n",
    "bst_model_num = 0\n",
    "for epoch in range(EPOCHS):\n",
    "    logger.info(f'---------Training Epoch: {epoch+1:03d} started---------')\n",
    "    train_loss = train_one_epoch(model, optimizer, criterion, train_loader, DEVICE)\n",
    "    losses_train.append(train_loss)\n",
    "    logger.info(f'Train Loss: {train_loss:.4f}')\n",
    "\n",
    "    val_loss = 0.0\n",
    "    if (epoch+1) % EVAL_FREQ == 0 or epoch == EPOCHS-1:\n",
    "        logger.info(f'---------Validation Epoch: {epoch+1:03d} started---------')\n",
    "\n",
    "        val_loss = validate(model, criterion, val_loader, DEVICE)\n",
    "        logger.info(f'Validation Loss: {val_loss:.4f}')\n",
    "\n",
    "        checkpoint_path = os.path.join(checkpoint_dir, f'model_at_epoch_{epoch+1:02d}.pth')\n",
    "        torch.save(model.state_dict(), checkpoint_path)\n",
    "\n",
    "        if val_loss < best_val_loss:\n",
    "            best_val_loss = val_loss\n",
    "            bst_model_num = epoch+1\n",
    "    print(f'Epoch: {epoch+1:02d}, Train Loss: {train_loss:.4f}, Val Loss: {best_val_loss:.4f}')\n",
    "    \n",
    "print(\"Best model at epoch: \", bst_model_num)\n"
   ]
  },
  {
   "cell_type": "code",
   "execution_count": 11,
   "metadata": {},
   "outputs": [],
   "source": [
    "def evaluate(model, data_loader, device):\n",
    "    model.eval()\n",
    "    \n",
    "    all_preds = []\n",
    "    with torch.no_grad():\n",
    "        for images, labels in data_loader:\n",
    "            images, labels = images.to(device), labels.to(device)\n",
    "            outputs = model(images)\n",
    "            preds = outputs.argmax(1)\n",
    "            all_preds.append(preds)\n",
    "    return torch.cat(all_preds)\n",
    "\n",
    "def cal_single_metrics(pred, targets):\n",
    "    dice = []\n",
    "    # target\n",
    "    for i in range(1,9):\n",
    "        pred_i = pred == i\n",
    "        target_i = targets == i\n",
    "        intersection = (pred_i & target_i).sum().float()\n",
    "        acc = (2. * intersection) / (pred_i.sum() + target_i.sum())\n",
    "        dice.append(acc.item())\n",
    "    # print(dice)\n",
    "    return dice\n",
    "\n",
    "def cal_metrics(preds, targets, device):\n",
    "    targets = targets.to(device)\n",
    "    all_dice = []\n",
    "    for i in range(preds.size(0)):\n",
    "        all_dice.append(cal_single_metrics(preds[i], targets[i]))\n",
    "    \n",
    "    # print(all_dice)\n",
    "    return torch.tensor(all_dice)"
   ]
  },
  {
   "cell_type": "code",
   "execution_count": 12,
   "metadata": {},
   "outputs": [
    {
     "name": "stdout",
     "output_type": "stream",
     "text": [
      "tensor([0.9294, 0.9441, 0.8728, 0.8975, 0.9486, 0.8661, 0.8816, 0.9112])\n",
      "tensor(0.9064)\n"
     ]
    }
   ],
   "source": [
    "model = ResUnet(1, 10).to(DEVICE)\n",
    "bst_model = output_dir + '/checkpoints/model_at_epoch_{:02d}.pth'.format(bst_model_num)\n",
    "model.load_state_dict(torch.load(bst_model))\n",
    "pred = evaluate(model, test_loader, DEVICE)\n",
    "\n",
    "\n",
    "acc_all_pics = cal_metrics(pred, labels_test.argmax(1), DEVICE)\n",
    "acc_mean_pics = acc_all_pics.mean(0)\n",
    "\n",
    "variable_names = [\"Accuracy for each class in Each file\", \"Mean Accuracy for wach class\"]\n",
    "print(acc_all_pics.mean(0))\n",
    "print(acc_all_pics.mean())\n"
   ]
  },
  {
   "cell_type": "code",
   "execution_count": 15,
   "metadata": {},
   "outputs": [
    {
     "name": "stdout",
     "output_type": "stream",
     "text": [
      "[0.92942876 0.9440662  0.8728299  0.8974861  0.9485974  0.866137\n",
      " 0.8816289  0.9112376 ]\n"
     ]
    }
   ],
   "source": [
    "arr = acc_all_pics.numpy()\n",
    "print(arr.mean(0))"
   ]
  },
  {
   "cell_type": "code",
   "execution_count": 14,
   "metadata": {},
   "outputs": [
    {
     "ename": "TypeError",
     "evalue": "'numpy.float32' object is not iterable",
     "output_type": "error",
     "traceback": [
      "\u001b[0;31m---------------------------------------------------------------------------\u001b[0m",
      "\u001b[0;31mTypeError\u001b[0m                                 Traceback (most recent call last)",
      "Cell \u001b[0;32mIn[14], line 6\u001b[0m\n\u001b[1;32m      4\u001b[0m file\u001b[38;5;241m.\u001b[39mwrite(\u001b[38;5;124m'\u001b[39m\u001b[38;5;124m# \u001b[39m\u001b[38;5;132;01m{}\u001b[39;00m\u001b[38;5;124m:\u001b[39m\u001b[38;5;130;01m\\n\u001b[39;00m\u001b[38;5;124m'\u001b[39m\u001b[38;5;241m.\u001b[39mformat(variable_names[i]))\n\u001b[1;32m      5\u001b[0m numpy_array \u001b[38;5;241m=\u001b[39m tensor\u001b[38;5;241m.\u001b[39mnumpy()\n\u001b[0;32m----> 6\u001b[0m arr_str \u001b[38;5;241m=\u001b[39m \u001b[38;5;124m'\u001b[39m\u001b[38;5;130;01m\\n\u001b[39;00m\u001b[38;5;124m'\u001b[39m\u001b[38;5;241m.\u001b[39mjoin([\u001b[38;5;124m'\u001b[39m\u001b[38;5;130;01m\\t\u001b[39;00m\u001b[38;5;124m'\u001b[39m\u001b[38;5;241m.\u001b[39mjoin([\u001b[38;5;124m'\u001b[39m\u001b[38;5;132;01m{:.7f}\u001b[39;00m\u001b[38;5;124m'\u001b[39m\u001b[38;5;241m.\u001b[39mformat(x) \u001b[38;5;28;01mfor\u001b[39;00m x \u001b[38;5;129;01min\u001b[39;00m row]) \u001b[38;5;28;01mfor\u001b[39;00m row \u001b[38;5;129;01min\u001b[39;00m numpy_array])\n\u001b[1;32m      7\u001b[0m file\u001b[38;5;241m.\u001b[39mwrite(arr_str)\n\u001b[1;32m      8\u001b[0m file\u001b[38;5;241m.\u001b[39mwrite(\u001b[38;5;124m'\u001b[39m\u001b[38;5;130;01m\\n\u001b[39;00m\u001b[38;5;130;01m\\n\u001b[39;00m\u001b[38;5;130;01m\\n\u001b[39;00m\u001b[38;5;124m'\u001b[39m)\n",
      "Cell \u001b[0;32mIn[14], line 6\u001b[0m, in \u001b[0;36m<listcomp>\u001b[0;34m(.0)\u001b[0m\n\u001b[1;32m      4\u001b[0m file\u001b[38;5;241m.\u001b[39mwrite(\u001b[38;5;124m'\u001b[39m\u001b[38;5;124m# \u001b[39m\u001b[38;5;132;01m{}\u001b[39;00m\u001b[38;5;124m:\u001b[39m\u001b[38;5;130;01m\\n\u001b[39;00m\u001b[38;5;124m'\u001b[39m\u001b[38;5;241m.\u001b[39mformat(variable_names[i]))\n\u001b[1;32m      5\u001b[0m numpy_array \u001b[38;5;241m=\u001b[39m tensor\u001b[38;5;241m.\u001b[39mnumpy()\n\u001b[0;32m----> 6\u001b[0m arr_str \u001b[38;5;241m=\u001b[39m \u001b[38;5;124m'\u001b[39m\u001b[38;5;130;01m\\n\u001b[39;00m\u001b[38;5;124m'\u001b[39m\u001b[38;5;241m.\u001b[39mjoin([\u001b[38;5;124m'\u001b[39m\u001b[38;5;130;01m\\t\u001b[39;00m\u001b[38;5;124m'\u001b[39m\u001b[38;5;241m.\u001b[39mjoin([\u001b[38;5;124m'\u001b[39m\u001b[38;5;132;01m{:.7f}\u001b[39;00m\u001b[38;5;124m'\u001b[39m\u001b[38;5;241m.\u001b[39mformat(x) \u001b[38;5;28;01mfor\u001b[39;00m x \u001b[38;5;129;01min\u001b[39;00m row]) \u001b[38;5;28;01mfor\u001b[39;00m row \u001b[38;5;129;01min\u001b[39;00m numpy_array])\n\u001b[1;32m      7\u001b[0m file\u001b[38;5;241m.\u001b[39mwrite(arr_str)\n\u001b[1;32m      8\u001b[0m file\u001b[38;5;241m.\u001b[39mwrite(\u001b[38;5;124m'\u001b[39m\u001b[38;5;130;01m\\n\u001b[39;00m\u001b[38;5;130;01m\\n\u001b[39;00m\u001b[38;5;130;01m\\n\u001b[39;00m\u001b[38;5;124m'\u001b[39m)\n",
      "\u001b[0;31mTypeError\u001b[0m: 'numpy.float32' object is not iterable"
     ]
    }
   ],
   "source": [
    "\n",
    "\n",
    "\n",
    "with open(os.path.join(output_dir, 'tensors_spec.txt'), 'w') as file:\n",
    "    for i, tensor in enumerate([acc_all_pics, acc_mean_pics]):\n",
    "        # 写入变量名注释\n",
    "        file.write('# {}:\\n'.format(variable_names[i]))\n",
    "        numpy_array = tensor.numpy()\n",
    "        arr_str = '\\n'.join(['\\t'.join(['{:.7f}'.format(x) for x in row]) for row in numpy_array])\n",
    "        file.write(arr_str)\n",
    "        file.write('\\n\\n\\n')"
   ]
  },
  {
   "cell_type": "code",
   "execution_count": 16,
   "metadata": {},
   "outputs": [],
   "source": [
    "\n",
    "def save_gray(img, save_pred_dir, filename, pred=False):\n",
    "    img0 = img.cpu().numpy()\n",
    "\n",
    "    fig = plt.figure(1)\n",
    "    h = img.shape[0]\n",
    "    w = img.shape[1]\n",
    "    fig.set_size_inches(w/h, 1, forward=False)\n",
    "    ax = plt.Axes(fig, [0., 0., 1., 1.])\n",
    "    ax.set_axis_off()\n",
    "    fig.add_axes(ax)\n",
    "    ax.imshow(img0,cmap='gray')\n",
    "    \n",
    "    if pred:\n",
    "        im_path = os.path.join(save_pred_dir, filename+'_pred.png')\n",
    "    else:\n",
    "        im_path = os.path.join(save_pred_dir, filename+'_gt.png')\n",
    "    \n",
    "    fig.savefig(im_path, dpi=h)\n",
    "    plt.close(fig)\n",
    "\n",
    "save_pred_dir = 'output/pred_spec'\n",
    "os.makedirs(save_pred_dir, exist_ok=True)\n",
    "\n",
    "\n",
    "labels = labels_test.argmax(1)\n",
    "for i in range(pred.shape[0]):\n",
    "    save_gray(pred[i], save_pred_dir, filenames_test[i], pred=True)\n",
    "    save_gray(labels[i], save_pred_dir, filenames_test[i], pred=False)\n"
   ]
  },
  {
   "cell_type": "code",
   "execution_count": 17,
   "metadata": {},
   "outputs": [],
   "source": [
    "f_test =  \"data/cirrus/data.pkl\"\n",
    "with open(f_test, 'rb') as f:\n",
    "    data_test = pickle.load(f)\n",
    "\n",
    "labels_test = data_test['labels']\n",
    "images_test = data_test['images']\n",
    "filenames_test = data_test['file_names']\n",
    "\n",
    "images_test = images_test[:, np.newaxis, :, :]\n",
    "\n",
    "labels_test = torch.tensor(labels_test, dtype=torch.float32)\n",
    "images_test = torch.tensor(images_test, dtype=torch.float32)\n",
    "labels_test = to_one_hot(labels_test)\n",
    "test_dataset = TensorDataset(images_test, labels_test)\n",
    "test_loader_cirrus = DataLoader(test_dataset, batch_size=BATCH_SIZE, shuffle=False, pin_memory=True, num_workers=8)\n"
   ]
  },
  {
   "cell_type": "code",
   "execution_count": 18,
   "metadata": {},
   "outputs": [
    {
     "name": "stdout",
     "output_type": "stream",
     "text": [
      "tensor([0.7260, 0.8059, 0.8082, 0.6468, 0.8705, 0.8625, 0.8955, 0.8463])\n",
      "tensor(0.8077)\n"
     ]
    }
   ],
   "source": [
    "model = ResUnet(1, 10).to(DEVICE)\n",
    "bst_model = output_dir + '/checkpoints/model_at_epoch_{:02d}.pth'.format(bst_model_num)\n",
    "model.load_state_dict(torch.load(bst_model))\n",
    "pred = evaluate(model, test_loader_cirrus, DEVICE)\n",
    "\n",
    "acc_all_pics = cal_metrics(pred, labels_test.argmax(1), DEVICE)\n",
    "acc_mean_pics = acc_all_pics.mean(0)\n",
    "\n",
    "variable_names = [\"Accuracy for each class in Each file\", \"Mean Accuracy for wach class\"]\n",
    "print(acc_all_pics.mean(0))\n",
    "print(acc_all_pics.mean())\n",
    "\n"
   ]
  },
  {
   "cell_type": "code",
   "execution_count": 20,
   "metadata": {},
   "outputs": [
    {
     "ename": "TypeError",
     "evalue": "'numpy.float32' object is not iterable",
     "output_type": "error",
     "traceback": [
      "\u001b[0;31m---------------------------------------------------------------------------\u001b[0m",
      "\u001b[0;31mTypeError\u001b[0m                                 Traceback (most recent call last)",
      "Cell \u001b[0;32mIn[20], line 6\u001b[0m\n\u001b[1;32m      4\u001b[0m file\u001b[38;5;241m.\u001b[39mwrite(\u001b[38;5;124m'\u001b[39m\u001b[38;5;124m# \u001b[39m\u001b[38;5;132;01m{}\u001b[39;00m\u001b[38;5;124m:\u001b[39m\u001b[38;5;130;01m\\n\u001b[39;00m\u001b[38;5;124m'\u001b[39m\u001b[38;5;241m.\u001b[39mformat(variable_names[i]))\n\u001b[1;32m      5\u001b[0m numpy_array \u001b[38;5;241m=\u001b[39m tensor\u001b[38;5;241m.\u001b[39mnumpy()\n\u001b[0;32m----> 6\u001b[0m arr_str \u001b[38;5;241m=\u001b[39m \u001b[38;5;124m'\u001b[39m\u001b[38;5;130;01m\\n\u001b[39;00m\u001b[38;5;124m'\u001b[39m\u001b[38;5;241m.\u001b[39mjoin([\u001b[38;5;124m'\u001b[39m\u001b[38;5;130;01m\\t\u001b[39;00m\u001b[38;5;124m'\u001b[39m\u001b[38;5;241m.\u001b[39mjoin([\u001b[38;5;124m'\u001b[39m\u001b[38;5;132;01m{:.7f}\u001b[39;00m\u001b[38;5;124m'\u001b[39m\u001b[38;5;241m.\u001b[39mformat(x) \u001b[38;5;28;01mfor\u001b[39;00m x \u001b[38;5;129;01min\u001b[39;00m row]) \u001b[38;5;28;01mfor\u001b[39;00m row \u001b[38;5;129;01min\u001b[39;00m numpy_array])\n\u001b[1;32m      7\u001b[0m file\u001b[38;5;241m.\u001b[39mwrite(arr_str)\n\u001b[1;32m      8\u001b[0m file\u001b[38;5;241m.\u001b[39mwrite(\u001b[38;5;124m'\u001b[39m\u001b[38;5;130;01m\\n\u001b[39;00m\u001b[38;5;130;01m\\n\u001b[39;00m\u001b[38;5;130;01m\\n\u001b[39;00m\u001b[38;5;124m'\u001b[39m)\n",
      "Cell \u001b[0;32mIn[20], line 6\u001b[0m, in \u001b[0;36m<listcomp>\u001b[0;34m(.0)\u001b[0m\n\u001b[1;32m      4\u001b[0m file\u001b[38;5;241m.\u001b[39mwrite(\u001b[38;5;124m'\u001b[39m\u001b[38;5;124m# \u001b[39m\u001b[38;5;132;01m{}\u001b[39;00m\u001b[38;5;124m:\u001b[39m\u001b[38;5;130;01m\\n\u001b[39;00m\u001b[38;5;124m'\u001b[39m\u001b[38;5;241m.\u001b[39mformat(variable_names[i]))\n\u001b[1;32m      5\u001b[0m numpy_array \u001b[38;5;241m=\u001b[39m tensor\u001b[38;5;241m.\u001b[39mnumpy()\n\u001b[0;32m----> 6\u001b[0m arr_str \u001b[38;5;241m=\u001b[39m \u001b[38;5;124m'\u001b[39m\u001b[38;5;130;01m\\n\u001b[39;00m\u001b[38;5;124m'\u001b[39m\u001b[38;5;241m.\u001b[39mjoin([\u001b[38;5;124m'\u001b[39m\u001b[38;5;130;01m\\t\u001b[39;00m\u001b[38;5;124m'\u001b[39m\u001b[38;5;241m.\u001b[39mjoin([\u001b[38;5;124m'\u001b[39m\u001b[38;5;132;01m{:.7f}\u001b[39;00m\u001b[38;5;124m'\u001b[39m\u001b[38;5;241m.\u001b[39mformat(x) \u001b[38;5;28;01mfor\u001b[39;00m x \u001b[38;5;129;01min\u001b[39;00m row]) \u001b[38;5;28;01mfor\u001b[39;00m row \u001b[38;5;129;01min\u001b[39;00m numpy_array])\n\u001b[1;32m      7\u001b[0m file\u001b[38;5;241m.\u001b[39mwrite(arr_str)\n\u001b[1;32m      8\u001b[0m file\u001b[38;5;241m.\u001b[39mwrite(\u001b[38;5;124m'\u001b[39m\u001b[38;5;130;01m\\n\u001b[39;00m\u001b[38;5;130;01m\\n\u001b[39;00m\u001b[38;5;130;01m\\n\u001b[39;00m\u001b[38;5;124m'\u001b[39m)\n",
      "\u001b[0;31mTypeError\u001b[0m: 'numpy.float32' object is not iterable"
     ]
    }
   ],
   "source": [
    "\n",
    "with open(os.path.join(output_dir, 'tensors_cirrus.txt'), 'w') as file:\n",
    "    for i, tensor in enumerate([acc_all_pics, acc_mean_pics]):\n",
    "        # 写入变量名注释\n",
    "        file.write('# {}:\\n'.format(variable_names[i]))\n",
    "        numpy_array = tensor.numpy()\n",
    "        arr_str = '\\n'.join(['\\t'.join(['{:.7f}'.format(x) for x in row]) for row in numpy_array])\n",
    "        file.write(arr_str)\n",
    "        file.write('\\n\\n\\n')"
   ]
  },
  {
   "cell_type": "code",
   "execution_count": 21,
   "metadata": {},
   "outputs": [],
   "source": [
    "save_pred_dir = 'output/pred_cirrus'\n",
    "os.makedirs(save_pred_dir, exist_ok=True)\n",
    "\n",
    "\n",
    "labels = labels_test.argmax(1)\n",
    "for i in range(pred.shape[0]):\n",
    "    save_gray(pred[i], save_pred_dir, filenames_test[i], pred=True)\n",
    "    save_gray(labels[i], save_pred_dir, filenames_test[i], pred=False)\n"
   ]
  }
 ],
 "metadata": {
  "kernelspec": {
   "display_name": "selfDA",
   "language": "python",
   "name": "python3"
  },
  "language_info": {
   "codemirror_mode": {
    "name": "ipython",
    "version": 3
   },
   "file_extension": ".py",
   "mimetype": "text/x-python",
   "name": "python",
   "nbconvert_exporter": "python",
   "pygments_lexer": "ipython3",
   "version": "3.10.14"
  }
 },
 "nbformat": 4,
 "nbformat_minor": 2
}
