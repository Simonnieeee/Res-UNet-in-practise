{
 "cells": [
  {
   "cell_type": "markdown",
   "metadata": {},
   "source": [
    "This is used to process data into .pkl files"
   ]
  },
  {
   "cell_type": "code",
   "execution_count": 1,
   "metadata": {},
   "outputs": [],
   "source": [
    "\n",
    "\n",
    "import numpy as np\n",
    "import json\n",
    "import imageio \n",
    "\n",
    "\n",
    "def generate_mask(bd_pts=None, img_rows=None, lesion=None):\n",
    "    \"\"\" Generate masks from boundary surfaces and lesion masks\n",
    "\n",
    "        Args:\n",
    "            bd_pts: boundary surfaces, shape = [bds, img_cols]\n",
    "            lesion: lesion masks, shape =  [img_rows, img_cols] \n",
    "\n",
    "        Returns:\n",
    "            label: training labels, shape = (img_rows, img_cols)\n",
    "\n",
    "    \"\"\"\n",
    "    bds,img_cols = bd_pts.shape\n",
    "    if img_rows is None:\n",
    "        assert lesion is not None\n",
    "        img_rows = lesion.shape[0]\n",
    "    label = np.zeros((img_rows,img_cols))*np.nan\n",
    "    for j in range(img_cols):\n",
    "        \n",
    "        cols = np.arange(img_rows)\n",
    "        index = cols - bd_pts[0,j] < 0\n",
    "        label[index,j] = 0\n",
    "        index = cols - bd_pts[bds-1,j] >= 0\n",
    "        label[index,j] = bds\n",
    "        for k in range(bds-1):\n",
    "            index_up = cols - bd_pts[k,j] >= 0\n",
    "            index_down = cols - bd_pts[k+1,j] < 0\n",
    "            label[index_up&index_down,j] = k+1\n",
    "    if lesion is not None:\n",
    "        label[lesion>0] = bds+1\n",
    "\n",
    "    return label\n"
   ]
  },
  {
   "cell_type": "code",
   "execution_count": 2,
   "metadata": {},
   "outputs": [
    {
     "name": "stdout",
     "output_type": "stream",
     "text": [
      "48 48\n"
     ]
    },
    {
     "name": "stderr",
     "output_type": "stream",
     "text": [
      "/tmp/ipykernel_3821066/1016019205.py:24: DeprecationWarning: Starting with ImageIO v3 the behavior of this function will switch to that of iio.v3.imread. To keep the current behavior (and make this warning disappear) use `import imageio.v2 as imageio` or call `imageio.v2.imread` directly.\n",
      "  image = np.array(imageio.imread(str(image_pt),pilmode = 'L'))/255\n"
     ]
    }
   ],
   "source": [
    "\n",
    "import os\n",
    "\n",
    "labels_pt = \"data/cirrus/label\"\n",
    "images_pt = \"data/cirrus/image\"\n",
    "# labels_pt = \"data/spectralis/hcval/label\"\n",
    "# images_pt = \"data/spectralis/hcval/image\"\n",
    "\n",
    "## read image\n",
    "labels_files = os.listdir(labels_pt)\n",
    "labels_files = sorted(labels_files)\n",
    "images_files = os.listdir(images_pt)\n",
    "images_files = sorted(images_files)\n",
    "\n",
    "file_names = [x.split('.')[0] for x in labels_files] ## list\n",
    "\n",
    "print(len(labels_files),len(images_files))\n",
    "\n",
    "images_data_list = []\n",
    "labels_data_list = []\n",
    "for image_file,label_file in zip(images_files,labels_files):\n",
    "    image_pt = os.path.join(images_pt,image_file)\n",
    "    label_pt = os.path.join(labels_pt,label_file)\n",
    "\n",
    "    image = np.array(imageio.imread(str(image_pt),pilmode = 'L'))/255\n",
    "    images_data_list.append(image)\n",
    "    with open(str(label_pt),'r') as f:\n",
    "        dicts = json.loads(f.read())\n",
    "\n",
    "    if 'lesion' in dicts.keys():\n",
    "        mask = np.array(dicts['lesion'])\n",
    "        mask[mask>1] = 1\n",
    "    else:    \n",
    "        mask = np.zeros(image.shape)\n",
    "\n",
    "    bds = np.array(dicts['bds'], dtype=float) - 1 \n",
    "    label = generate_mask(bd_pts=bds,lesion=mask)\n",
    "    labels_data_list.append(label)\n",
    "\n",
    "    image_file_name = image_file.split('.')[0]\n",
    "    label_file_name = label_file.split('.')[0]\n",
    "\n",
    "    if image_file_name != label_file_name:\n",
    "        print(\"image_file_name != label_file_name\")\n",
    "        print(image_file)\n",
    "        print(label_file)\n",
    "        break\n",
    "    assert image.shape == label.shape\n"
   ]
  },
  {
   "cell_type": "code",
   "execution_count": 3,
   "metadata": {},
   "outputs": [
    {
     "name": "stdout",
     "output_type": "stream",
     "text": [
      "48\n",
      "48\n",
      "48\n"
     ]
    }
   ],
   "source": [
    "import pickle\n",
    "\n",
    "print(len(images_data_list))\n",
    "print(len(labels_data_list))\n",
    "print(len(file_names))\n",
    "images_data_list = np.array(images_data_list)\n",
    "labels_data_list = np.array(labels_data_list)\n",
    "\n",
    "data = {'images':images_data_list,'labels':labels_data_list, 'file_names':file_names}\n",
    "\n",
    "## save data\n",
    "f_name = 'data/cirrus/data.pkl'\n",
    "with open(f_name, 'wb') as f:\n",
    "    pickle.dump(data, f)"
   ]
  },
  {
   "cell_type": "code",
   "execution_count": 4,
   "metadata": {},
   "outputs": [
    {
     "name": "stdout",
     "output_type": "stream",
     "text": [
      "1.0\n",
      "9.0\n"
     ]
    }
   ],
   "source": [
    "## load data\n",
    "with open(f_name, 'rb') as f:\n",
    "    data = pickle.load(f)\n",
    "\n",
    "new_labels = data['labels']\n",
    "new_images = data['images']\n",
    "new_filenames = data['file_names']\n",
    "\n",
    "print(np.max(new_images[0]))\n",
    "print(np.max(new_labels[0]))"
   ]
  },
  {
   "cell_type": "markdown",
   "metadata": {},
   "source": [
    "### Part II\n",
    "开始载入数据"
   ]
  },
  {
   "cell_type": "code",
   "execution_count": 1,
   "metadata": {},
   "outputs": [],
   "source": [
    "import pickle\n",
    "\n",
    "f_val = \"data/spectralis/hcval/data.pkl\"\n",
    "f_train = \"data/spectralis/hctrain/data.pkl\"\n",
    "f_test = \"data/spectralis/hceval/data.pkl\"\n",
    "\n",
    "with open(f_val, 'rb') as f:\n",
    "    data_val = pickle.load(f)\n",
    "\n",
    "labels_val = data_val['labels']\n",
    "images_val = data_val['images']\n",
    "filenames_val = data_val['file_names']\n",
    "\n",
    "\n",
    "with open(f_train, 'rb') as f:\n",
    "    data_train = pickle.load(f)\n",
    "\n",
    "labels_train = data_train['labels']\n",
    "images_train = data_train['images']\n",
    "filenames_train = data_train['file_names']\n",
    "\n",
    "with open(f_test, 'rb') as f:\n",
    "    data_test = pickle.load(f)\n",
    "\n",
    "labels_test = data_test['labels']\n",
    "images_test = data_test['images']\n",
    "filenames_test = data_test['file_names']\n"
   ]
  },
  {
   "cell_type": "code",
   "execution_count": 2,
   "metadata": {},
   "outputs": [],
   "source": [
    "import numpy as np\n",
    "import torch\n",
    "\n",
    "## 调整数据size\n",
    "images_train = images_train[:, np.newaxis, :, :]\n",
    "images_val = images_val[:, np.newaxis, :, :]\n",
    "labels_train = labels_train[:, np.newaxis, :, :]\n",
    "labels_val = labels_val[:, np.newaxis, :, :]\n",
    "images_test = images_test[:, np.newaxis, :, :]\n",
    "labels_test = labels_test[:, np.newaxis, :, :]\n",
    "\n",
    "## 转化为torch tensor\n",
    "labels_train = torch.tensor(labels_train, dtype=torch.float32)\n",
    "labels_val = torch.tensor(labels_val, dtype=torch.float32)\n",
    "images_train = torch.tensor(images_train, dtype=torch.float32)\n",
    "images_val = torch.tensor(images_val, dtype=torch.float32)\n",
    "labels_test = torch.tensor(labels_test, dtype=torch.float32)\n",
    "images_test = torch.tensor(images_test, dtype=torch.float32)\n"
   ]
  },
  {
   "cell_type": "code",
   "execution_count": 3,
   "metadata": {},
   "outputs": [
    {
     "name": "stdout",
     "output_type": "stream",
     "text": [
      "torch.Size([588, 1, 128, 1024])\n",
      "tensor([[[0., 0., 0.,  ..., 0., 0., 0.],\n",
      "         [0., 0., 0.,  ..., 0., 0., 0.],\n",
      "         [0., 0., 0.,  ..., 0., 0., 0.],\n",
      "         ...,\n",
      "         [9., 9., 9.,  ..., 9., 9., 9.],\n",
      "         [9., 9., 9.,  ..., 9., 9., 9.],\n",
      "         [9., 9., 9.,  ..., 9., 9., 9.]]])\n",
      "74 19\n"
     ]
    }
   ],
   "source": [
    "import torch\n",
    "from torch.utils.data import DataLoader, TensorDataset\n",
    "import torch.nn.functional as F\n",
    "\n",
    "# 设置超参数\n",
    "BATCH_SIZE = 8\n",
    "EPOCHS = 50\n",
    "LEARNING_RATE = 1e-4\n",
    "NUM_CLASSES = 10\n",
    "DEVICE = torch.device('cuda' if torch.cuda.is_available() else 'cpu')\n",
    "\n",
    "## label转化为one-hot\n",
    "print(labels_train.shape)\n",
    "\n",
    "def to_one_hot(labels_train):\n",
    "    num, _, h, w = labels_train.size()\n",
    "    labels_train_flat = labels_train.view(-1).long()\n",
    "    one_hot_labels = F.one_hot(labels_train_flat, num_classes=NUM_CLASSES)\n",
    "    one_hot_labels = one_hot_labels.view(num, NUM_CLASSES, h, w)\n",
    "    return one_hot_labels.float()\n",
    "\n",
    "labels_train = to_one_hot(labels_train)\n",
    "labels_val = to_one_hot(labels_val)\n",
    "labels_test = to_one_hot(labels_test)\n",
    "\n",
    "print(labels_train.shape)\n",
    "print(labels_val[0,:,0,0])\n",
    "\n",
    "## 创建dataset和加载器\n",
    "train_dataset = TensorDataset(images_train, labels_train)\n",
    "val_dataset = TensorDataset(images_val, labels_val)\n",
    "test_dataset = TensorDataset(images_test, labels_test)\n",
    "\n",
    "train_loader = DataLoader(train_dataset, batch_size=BATCH_SIZE, shuffle=True)\n",
    "val_loader = DataLoader(val_dataset, batch_size=BATCH_SIZE, shuffle=False)\n",
    "test_loader = DataLoader(test_dataset, batch_size=BATCH_SIZE, shuffle=False)\n",
    "print(len(train_loader), len(val_loader))\n"
   ]
  },
  {
   "cell_type": "code",
   "execution_count": 4,
   "metadata": {},
   "outputs": [
    {
     "name": "stdout",
     "output_type": "stream",
     "text": [
      "torch.Size([8, 10, 128, 1024]) torch.Size([8, 10, 128, 1024])\n",
      "torch.Size([8, 10, 128, 1024]) torch.Size([8, 10, 128, 1024])\n",
      "torch.Size([8, 10, 128, 1024]) torch.Size([8, 10, 128, 1024])\n",
      "torch.Size([8, 10, 128, 1024]) torch.Size([8, 10, 128, 1024])\n",
      "torch.Size([8, 10, 128, 1024]) torch.Size([8, 10, 128, 1024])\n",
      "torch.Size([8, 10, 128, 1024]) torch.Size([8, 10, 128, 1024])\n",
      "torch.Size([8, 10, 128, 1024]) torch.Size([8, 10, 128, 1024])\n",
      "torch.Size([8, 10, 128, 1024]) torch.Size([8, 10, 128, 1024])\n",
      "torch.Size([8, 10, 128, 1024]) torch.Size([8, 10, 128, 1024])\n",
      "torch.Size([8, 10, 128, 1024]) torch.Size([8, 10, 128, 1024])\n",
      "torch.Size([8, 10, 128, 1024]) torch.Size([8, 10, 128, 1024])\n",
      "torch.Size([8, 10, 128, 1024]) torch.Size([8, 10, 128, 1024])\n",
      "torch.Size([8, 10, 128, 1024]) torch.Size([8, 10, 128, 1024])\n",
      "torch.Size([8, 10, 128, 1024]) torch.Size([8, 10, 128, 1024])\n",
      "torch.Size([8, 10, 128, 1024]) torch.Size([8, 10, 128, 1024])\n",
      "torch.Size([8, 10, 128, 1024]) torch.Size([8, 10, 128, 1024])\n",
      "torch.Size([8, 10, 128, 1024]) torch.Size([8, 10, 128, 1024])\n",
      "torch.Size([8, 10, 128, 1024]) torch.Size([8, 10, 128, 1024])\n",
      "torch.Size([8, 10, 128, 1024]) torch.Size([8, 10, 128, 1024])\n",
      "torch.Size([8, 10, 128, 1024]) torch.Size([8, 10, 128, 1024])\n",
      "torch.Size([8, 10, 128, 1024]) torch.Size([8, 10, 128, 1024])\n",
      "torch.Size([8, 10, 128, 1024]) torch.Size([8, 10, 128, 1024])\n",
      "torch.Size([8, 10, 128, 1024]) torch.Size([8, 10, 128, 1024])\n",
      "torch.Size([8, 10, 128, 1024]) torch.Size([8, 10, 128, 1024])\n",
      "torch.Size([8, 10, 128, 1024]) torch.Size([8, 10, 128, 1024])\n",
      "torch.Size([8, 10, 128, 1024]) torch.Size([8, 10, 128, 1024])\n",
      "torch.Size([8, 10, 128, 1024]) torch.Size([8, 10, 128, 1024])\n",
      "torch.Size([8, 10, 128, 1024]) torch.Size([8, 10, 128, 1024])\n",
      "torch.Size([8, 10, 128, 1024]) torch.Size([8, 10, 128, 1024])\n",
      "torch.Size([8, 10, 128, 1024]) torch.Size([8, 10, 128, 1024])\n",
      "torch.Size([8, 10, 128, 1024]) torch.Size([8, 10, 128, 1024])\n",
      "torch.Size([8, 10, 128, 1024]) torch.Size([8, 10, 128, 1024])\n",
      "torch.Size([8, 10, 128, 1024]) torch.Size([8, 10, 128, 1024])\n",
      "torch.Size([8, 10, 128, 1024]) torch.Size([8, 10, 128, 1024])\n",
      "torch.Size([8, 10, 128, 1024]) torch.Size([8, 10, 128, 1024])\n"
     ]
    },
    {
     "ename": "KeyboardInterrupt",
     "evalue": "",
     "output_type": "error",
     "traceback": [
      "\u001b[0;31m---------------------------------------------------------------------------\u001b[0m",
      "\u001b[0;31mKeyboardInterrupt\u001b[0m                         Traceback (most recent call last)",
      "Cell \u001b[0;32mIn[4], line 43\u001b[0m\n\u001b[1;32m     41\u001b[0m bst_model_num \u001b[38;5;241m=\u001b[39m \u001b[38;5;241m0\u001b[39m\n\u001b[1;32m     42\u001b[0m \u001b[38;5;28;01mfor\u001b[39;00m epoch \u001b[38;5;129;01min\u001b[39;00m \u001b[38;5;28mrange\u001b[39m(EPOCHS):\n\u001b[0;32m---> 43\u001b[0m     train_loss \u001b[38;5;241m=\u001b[39m \u001b[43mtrain_one_epoch\u001b[49m\u001b[43m(\u001b[49m\u001b[43mmodel\u001b[49m\u001b[43m,\u001b[49m\u001b[43m \u001b[49m\u001b[43moptimizer\u001b[49m\u001b[43m,\u001b[49m\u001b[43m \u001b[49m\u001b[43mcriterion\u001b[49m\u001b[43m,\u001b[49m\u001b[43m \u001b[49m\u001b[43mtrain_loader\u001b[49m\u001b[43m,\u001b[49m\u001b[43m \u001b[49m\u001b[43mDEVICE\u001b[49m\u001b[43m)\u001b[49m\n\u001b[1;32m     44\u001b[0m     losses_train\u001b[38;5;241m.\u001b[39mappend(train_loss)\n\u001b[1;32m     46\u001b[0m     \u001b[38;5;28;01mif\u001b[39;00m epoch \u001b[38;5;241m%\u001b[39m \u001b[38;5;241m5\u001b[39m \u001b[38;5;241m==\u001b[39m \u001b[38;5;241m0\u001b[39m:\n",
      "Cell \u001b[0;32mIn[4], line 17\u001b[0m, in \u001b[0;36mtrain_one_epoch\u001b[0;34m(model, optimizer, criterion, data_loader, device)\u001b[0m\n\u001b[1;32m     14\u001b[0m     loss\u001b[38;5;241m.\u001b[39mbackward()\n\u001b[1;32m     15\u001b[0m     optimizer\u001b[38;5;241m.\u001b[39mstep()\n\u001b[0;32m---> 17\u001b[0m     train_loss \u001b[38;5;241m+\u001b[39m\u001b[38;5;241m=\u001b[39m \u001b[43mloss\u001b[49m\u001b[38;5;241;43m.\u001b[39;49m\u001b[43mitem\u001b[49m\u001b[43m(\u001b[49m\u001b[43m)\u001b[49m\n\u001b[1;32m     18\u001b[0m \u001b[38;5;28;01mreturn\u001b[39;00m train_loss \u001b[38;5;241m/\u001b[39m \u001b[38;5;28mlen\u001b[39m(data_loader)\n",
      "\u001b[0;31mKeyboardInterrupt\u001b[0m: "
     ]
    }
   ],
   "source": [
    "from ResUnet import *\n",
    "\n",
    "def train_one_epoch(model, optimizer, criterion, data_loader, device):\n",
    "    model.train()\n",
    "    train_loss = 0.0\n",
    "    for images, labels in data_loader:\n",
    "        images, labels = images.to(device), labels.to(device)\n",
    "\n",
    "        optimizer.zero_grad()\n",
    "        outputs = model(images)\n",
    "        print(outputs.shape, labels.shape)\n",
    "        # outputs = \n",
    "        loss = criterion(outputs, labels)\n",
    "        loss.backward()\n",
    "        optimizer.step()\n",
    "\n",
    "        train_loss += loss.item()\n",
    "    return train_loss / len(data_loader)\n",
    "\n",
    "def validate(model, criterion, data_loader, device):\n",
    "    model.eval()\n",
    "    val_loss = 0.0\n",
    "    with torch.no_grad():\n",
    "        for images, labels in data_loader:\n",
    "            images, labels = images.to(device), labels.to(device)\n",
    "\n",
    "            outputs = model(images)\n",
    "            loss = criterion(outputs, labels)\n",
    "\n",
    "            val_loss += loss.item()\n",
    "    return val_loss / len(data_loader)\n",
    "\n",
    "output_dir = \"output\"\n",
    "\n",
    "model = ResUnet(1, 10).to(DEVICE)\n",
    "criterion = torch.nn.CrossEntropyLoss()\n",
    "optimizer = torch.optim.Adam(model.parameters(), lr=LEARNING_RATE)\n",
    "\n",
    "best_val_loss = float('inf')\n",
    "losses_train = []\n",
    "bst_model_num = 0\n",
    "for epoch in range(EPOCHS):\n",
    "    train_loss = train_one_epoch(model, optimizer, criterion, train_loader, DEVICE)\n",
    "    losses_train.append(train_loss)\n",
    "\n",
    "    if epoch % 5 == 0:\n",
    "        val_loss = validate(model, criterion, val_loader, DEVICE)\n",
    "        torch.save(model.state_dict(), output_dir+ '/checkpoints/model_at_epoch_{:02d}.pth'.format(epoch+1))\n",
    "\n",
    "        if val_loss < best_val_loss:\n",
    "            best_val_loss = val_loss\n",
    "            bst_model_num = epoch+1\n",
    "    print(f'Epoch: {epoch+1:03d}, Train Loss: {train_loss:.4f}, Val Loss: {val_loss:.4f}')\n",
    "    \n",
    "print(\"Best model at epoch: \", bst_model_num)\n"
   ]
  },
  {
   "cell_type": "code",
   "execution_count": null,
   "metadata": {},
   "outputs": [
    {
     "name": "stdout",
     "output_type": "stream",
     "text": [
      "(128, 1024)\n"
     ]
    },
    {
     "data": {
      "image/png": "[encoded data removed]",
      "text/plain": [
       "<Figure size 1000x1000 with 1 Axes>"
      ]
     },
     "metadata": {},
     "output_type": "display_data"
    }
   ],
   "source": [
    "import matplotlib.pyplot as plt\n",
    "\n",
    "print(images_data[0].shape)\n",
    "plt.figure(figsize=(10, 10))\n",
    "plt.imshow(labels_data[0], cmap='gray')\n",
    "# plt.colorbar()\n",
    "plt.axis('off')\n",
    "plt.show()"
   ]
  }
 ],
 "metadata": {
  "kernelspec": {
   "display_name": "selfDA",
   "language": "python",
   "name": "python3"
  },
  "language_info": {
   "codemirror_mode": {
    "name": "ipython",
    "version": 3
   },
   "file_extension": ".py",
   "mimetype": "text/x-python",
   "name": "python",
   "nbconvert_exporter": "python",
   "pygments_lexer": "ipython3",
   "version": "3.10.14"
  }
 },
 "nbformat": 4,
 "nbformat_minor": 2
}
